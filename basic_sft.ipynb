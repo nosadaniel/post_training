{
 "cells": [
  {
   "cell_type": "code",
   "execution_count": null,
   "metadata": {},
   "outputs": [],
   "source": [
    "print(\"helloworld\")"
   ]
  },
  {
   "cell_type": "markdown",
   "metadata": {},
   "source": [
    "# Create and activate your venv\n",
    "# run the pip install -r requirements.txt"
   ]
  },
  {
   "cell_type": "code",
   "execution_count": null,
   "metadata": {},
   "outputs": [],
   "source": [
    "#import dependencies\n",
    "import torch\n",
    "import pandas as pd\n",
    "from datasets import load_dataset, Dataset\n",
    "from transformers import AutoTokenizer, AutoModelForCausalLM, TrainingArguments\n",
    "from trl import SFTTrainer, DataCollatorForCompletionOnlyLM, SFTConfig"
   ]
  },
  {
   "cell_type": "code",
   "execution_count": null,
   "metadata": {},
   "outputs": [],
   "source": [
    "#check if gpu is available\n",
    "print(torch.cuda.is_available())\n",
    "print(torch.version.cuda)\n"
   ]
  },
  {
   "cell_type": "markdown",
   "metadata": {},
   "source": [
    "# Define Helpers Functions"
   ]
  },
  {
   "cell_type": "code",
   "execution_count": null,
   "metadata": {},
   "outputs": [],
   "source": [
    "def generate_responses(model, tokenizer, user_message, system_message=None, max_new_tokens=100):\n",
    "    # Format chat using tokenizer's chat template\n",
    "    messages = []\n",
    "    if system_message:\n",
    "        messages.append({\"role\": \"system\", \"content\": system_message})\n",
    "    # we assume the data are all single turn conversation\n",
    "    messages.append({\"role\": \"user\", \"content\": user_message})\n",
    "\n",
    "    prompt = tokenizer.apply_chat_template(\n",
    "        messages, \n",
    "        tokenize=False, \n",
    "        add_generation_prompt=True,\n",
    "        enable_thinking=False\n",
    "    )\n",
    "\n",
    "    # Convert messages to token IDs, send to device incase the model is on gpu\n",
    "    inputs = tokenizer(prompt, return_tensors=\"pt\").to(model.device)\n",
    "    # Recommended to use vllm, sgland or TensorRt\n",
    "    with torch.no_grad():\n",
    "        outputs = model.generate(\n",
    "            **inputs, \n",
    "            max_new_tokens=max_new_tokens,\n",
    "            do_sample=False,\n",
    "            pad_token_id=tokenizer.eos_token_id,\n",
    "            eos_token_id=tokenizer.eos_token_id,\n",
    "        )\n",
    "    # extract the generated ids and the responses\n",
    "    input_len = inputs[\"input_ids\"].shape[1]\n",
    "    generated_ids = outputs[0][input_len:]\n",
    "    # Decode response to text base response\n",
    "    response = tokenizer.decode(generated_ids, skip_special_tokens=True).strip()\n",
    "    return response\n"
   ]
  },
  {
   "cell_type": "code",
   "execution_count": null,
   "metadata": {},
   "outputs": [],
   "source": [
    "def test_model_with_questions(model, tokenizer, questions,\n",
    "                             system_message=None, title=\"Model Output\"):\n",
    "    print(f\"\\n==== {title} ====\\n\")\n",
    "    rows = []\n",
    "    for i, question in enumerate(questions, 1):\n",
    "        response = generate_responses(model, tokenizer, question, system_message)\n",
    "        rows.append({\"User Prompt\": question, \"Assistant Response\": response})\n",
    "    df = pd.DataFrame(rows)\n",
    "    pd.set_option('display.max_colwidth', None) # avoid truncating long text\n",
    "    display(df)\n"
   ]
  },
  {
   "cell_type": "code",
   "execution_count": null,
   "metadata": {},
   "outputs": [],
   "source": [
    "def load_model_and_tokenizer(model_name, use_gpu=True):\n",
    "    \"\"\"\n",
    "    Load the model and tokenizer from the model name\n",
    "    \"\"\"\n",
    "    tokenizer = AutoTokenizer.from_pretrained(model_name)\n",
    "    model = AutoModelForCausalLM.from_pretrained(model_name)\n",
    "    if use_gpu:\n",
    "        model.to(\"cuda\")\n",
    "    # if the model doesn't have a chat template, we need to define it\n",
    "    if not tokenizer.chat_template:\n",
    "        tokenizer.chat_template = \"\"\"{% for message in messages %}\n",
    "            {% if message['role'] == 'system' % }System: {{ message['content'] }}\\n\n",
    "            {% elif message['role'] == 'user' % }User: {{ message['content'] }}\\n\n",
    "            {% elif message['role'] == 'assistant' % }Assistant: {{ message['content'] }} <|endoftext|>\\n\n",
    "            {% endif %}\n",
    "            {% endfor %}\"\"\"\n",
    "    # Tokenizer config\n",
    "    if not tokenizer.pad_token:\n",
    "        tokenizer.pad_token = tokenizer.eos_token\n",
    "        \n",
    "    return model, tokenizer\n"
   ]
  },
  {
   "cell_type": "code",
   "execution_count": null,
   "metadata": {},
   "outputs": [],
   "source": [
    "def display_dataset(dataset):\n",
    "    # Visualize the dataset\n",
    "    rows = []\n",
    "    # select the first 10 examples\n",
    "    #print the length of the dataset\n",
    "    print(f\"Length of the dataset: {len(dataset)}\")\n",
    "    for i in dataset:\n",
    "        example = i\n",
    "        user_msg = next(m['content'] for m in example['messages'] if m['role'] == 'user')\n",
    "        assistant_msg = next(m['content'] for m in example['messages'] if m['role'] == 'assistant')\n",
    "        rows.append({\n",
    "            \"User Prompt\": user_msg,\n",
    "            \"Assistant Response\": assistant_msg\n",
    "        })\n",
    "    # Display as a table\n",
    "    df = pd.DataFrame(rows)\n",
    "    pd.set_option('display.max_colwidth', None) # avoid truncating long text\n",
    "    display(df)\n",
    "\n"
   ]
  },
  {
   "cell_type": "markdown",
   "metadata": {},
   "source": [
    "# Load base model & test on simple questions"
   ]
  },
  {
   "cell_type": "code",
   "execution_count": null,
   "metadata": {},
   "outputs": [],
   "source": [
    "USE_GPU = torch.cuda.is_available()\n",
    "print(f\"Using GPU: {USE_GPU}\")\n",
    "\n",
    "questions = [\n",
    "    \"Give me aan 1-sentence introduction to the topic of AI\",\n",
    "    \"Calculate the sum of 1+1-1\",\n",
    "    \"What is the difference between a thread and a process?\"\n",
    "]"
   ]
  },
  {
   "cell_type": "code",
   "execution_count": null,
   "metadata": {},
   "outputs": [],
   "source": [
    "# using a base model before sft\n",
    "model, tokenizer = load_model_and_tokenizer(\"Qwen/Qwen3-0.6B-Base\", use_gpu=USE_GPU)\n",
    "\n",
    "test_model_with_questions(model, tokenizer, questions, title=\"Base Model (Before SFT) Output\")\n",
    "\n",
    "#delete model and tokenizer after testing\n",
    "del model, tokenizer"
   ]
  },
  {
   "cell_type": "code",
   "execution_count": null,
   "metadata": {},
   "outputs": [],
   "source": [
    "# using a sft model\n",
    "model, tokenizer = load_model_and_tokenizer(\"banghua/Qwen3-0.6B\", use_gpu=USE_GPU)\n",
    "test_model_with_questions(model, tokenizer, questions, title=\"Base Model (After SFT) Output\")"
   ]
  },
  {
   "cell_type": "markdown",
   "metadata": {},
   "source": [
    "# Doing SFT on a small model"
   ]
  },
  {
   "cell_type": "code",
   "execution_count": null,
   "metadata": {},
   "outputs": [],
   "source": [
    "model_name = \"Qwen/Qwen3-0.6B-Base\"\n",
    "model, tokenizer = load_model_and_tokenizer(model_name, use_gpu=USE_GPU)"
   ]
  },
  {
   "cell_type": "code",
   "execution_count": null,
   "metadata": {},
   "outputs": [],
   "source": [
    "train_dataset = load_dataset(\"banghua/DL-SFT-Dataset\")[\"train\"]\n",
    "if not USE_GPU:\n",
    "    # limit the dataset to 100\n",
    "    train_dataset = train_dataset.select(range(100))\n",
    "display_dataset(train_dataset.select(range(200)))"
   ]
  },
  {
   "cell_type": "code",
   "execution_count": null,
   "metadata": {},
   "outputs": [],
   "source": [
    "# SFTTrainer config\n",
    "sft_config = SFTConfig(\n",
    "  learning_rate=8e-5, # Learning rate for training.\n",
    "  num_train_epochs=1, # Set the number of epochs to train the model.\n",
    "  per_device_train_batch_size=1, # Batch size for each device (e.g, GPU) during training.\n",
    "  gradient_accumulation_steps=8, # Number of steps before performing a backward/update pass to accumulate gradients.\n",
    "  gradient_checkpointing=False, # Enable gradient checkpointing to reduce memory usage during training at the cost of slower training speed\n",
    "  logging_steps=2 # Frequency of logging during training progress (log every 2 steps).\n",
    ")"
   ]
  },
  {
   "cell_type": "markdown",
   "metadata": {},
   "source": [
    "## show current memory stats before training\n"
   ]
  },
  {
   "cell_type": "code",
   "execution_count": null,
   "metadata": {},
   "outputs": [],
   "source": [
    "import psutil  \n",
    "#@title Show current memory stats\n",
    "if USE_GPU:\n",
    "    gpu_stats = torch.cuda.get_device_properties(0)\n",
    "    start_gpu_memory = round(torch.cuda.max_memory_reserved() / 1024 / 1024 / 1024, 3)\n",
    "    max_memory = round(gpu_stats.total_memory / 1024 / 1024 / 1024, 3)\n",
    "    print(f\"GPU = {gpu_stats.name}. Max memory = {max_memory} GB.\")\n",
    "    print(f\"{start_gpu_memory} GB of memory reserved.\")\n",
    "    \n",
    "else:\n",
    "    cpu_stats = psutil.virtual_memory()\n",
    "    cpu_usage = psutil.cpu_percent(interval=1)\n",
    "    print(f\"CPU Usage: {cpu_usage}%\")\n",
    "    print(f\"CPU Memory: {round(cpu_stats.used / 1024 / 1024 / 1024, 3)} GB used / {round(cpu_stats.total / 1024 / 1024 / 1024, 3)} GB total\")\n",
    "    print(f\"CPU Memory Available: {round(cpu_stats.available / 1024 / 1024 / 1024, 3)} GB\")"
   ]
  },
  {
   "cell_type": "code",
   "execution_count": null,
   "metadata": {},
   "outputs": [],
   "source": [
    "sft_trainer = SFTTrainer(\n",
    "    model=model,\n",
    "    args=sft_config,\n",
    "    train_dataset=train_dataset,\n",
    "    processing_class=tokenizer,\n",
    ")\n",
    "#train the model\n",
    "trainer_stats = sft_trainer.train()"
   ]
  },
  {
   "cell_type": "markdown",
   "metadata": {},
   "source": [
    "## show final memory and time stats after training, only when running on gpu"
   ]
  },
  {
   "cell_type": "code",
   "execution_count": null,
   "metadata": {},
   "outputs": [],
   "source": [
    "#@title Show final memory and time stats\n",
    "if USE_GPU:\n",
    "    used_memory = round(torch.cuda.max_memory_reserved() / 1024 / 1024 / 1024, 3)\n",
    "    used_memory_for_lora = round(used_memory - start_gpu_memory, 3)\n",
    "    used_percentage = round(used_memory         /max_memory*100, 3)\n",
    "    lora_percentage = round(used_memory_for_lora/max_memory*100, 3)\n",
    "    \n",
    "    print(f\"{sft_trainer.metrics['train_runtime']} seconds used for training.\")\n",
    "    print(f\"{round(sft_trainer.metrics['train_runtime']/60, 2)} minutes used for training.\")\n",
    "    print(f\"Peak reserved memory = {used_memory} GB.\")\n",
    "    print(f\"Peak reserved memory for training = {used_memory_for_lora} GB.\")\n",
    "    print(f\"Peak reserved memory % of max memory = {used_percentage} %.\")\n",
    "    print(f\"Peak reserved memory for training % of max memory = {lora_percentage} %.\")"
   ]
  },
  {
   "cell_type": "markdown",
   "metadata": {},
   "source": [
    "# Testing training results on small model and small dataset"
   ]
  },
  {
   "cell_type": "code",
   "execution_count": null,
   "metadata": {},
   "outputs": [],
   "source": [
    "if not USE_GPU: # move model to CPU  when GPU is not requested\n",
    "    sft_trainer.model.to(\"cpu\")\n",
    "test_model_with_questions(sft_trainer.model, sft_trainer.processing_class, questions, title=\"SFT Model (After SFT) Output\")"
   ]
  }
 ],
 "metadata": {
  "kernelspec": {
   "display_name": ".venv",
   "language": "python",
   "name": "python3"
  },
  "language_info": {
   "codemirror_mode": {
    "name": "ipython",
    "version": 3
   },
   "file_extension": ".py",
   "mimetype": "text/x-python",
   "name": "python",
   "nbconvert_exporter": "python",
   "pygments_lexer": "ipython3",
   "version": "3.12.6"
  }
 },
 "nbformat": 4,
 "nbformat_minor": 2
}
